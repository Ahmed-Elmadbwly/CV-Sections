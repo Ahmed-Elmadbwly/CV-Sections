{
 "cells": [
  {
   "cell_type": "code",
   "metadata": {
    "ExecuteTime": {
     "end_time": "2024-12-10T17:15:59.670956Z",
     "start_time": "2024-12-10T17:15:46.158844Z"
    }
   },
   "source": [
    "import tensorflow as tf\n",
    "import numpy as np\n",
    "from PIL import Image\n",
    "from tensorflow.keras.preprocessing import image\n",
    "from  tensorflow.keras.layers import Conv2D,Activation,MaxPooling2D,UpSampling2D,Concatenate,Input\n",
    "from tensorflow.keras.models import Model"
   ],
   "outputs": [],
   "execution_count": 1
  },
  {
   "cell_type": "code",
   "metadata": {
    "ExecuteTime": {
     "end_time": "2024-12-10T17:15:59.686726Z",
     "start_time": "2024-12-10T17:15:59.681031Z"
    }
   },
   "source": [
    "input_shape = (384,384)"
   ],
   "outputs": [],
   "execution_count": 2
  },
  {
   "cell_type": "code",
   "metadata": {
    "ExecuteTime": {
     "end_time": "2024-12-10T17:16:00.424919Z",
     "start_time": "2024-12-10T17:16:00.386414Z"
    }
   },
   "source": [
    "def encoder_block(input_tensor, num_filters):\n",
    "    \"\"\"Encoder block: Conv2D -> ReLU -> Conv2D -> ReLU -> MaxPooling.\"\"\"\n",
    "    x = tf.keras.layers.Conv2D(num_filters, 3, padding=\"same\")(input_tensor)\n",
    "    x = tf.keras.layers.Activation(\"relu\")(x)\n",
    "    x = tf.keras.layers.Conv2D(num_filters, 3, padding=\"same\")(x)\n",
    "    x = tf.keras.layers.Activation(\"relu\")(x)\n",
    "    p = tf.keras.layers.MaxPooling2D((2, 2))(x)\n",
    "    return x, p\n",
    "\n",
    "def decoder_block(input_tensor, skip_tensor, num_filters):\n",
    "    \"\"\"Decoder block: UpSampling2D -> Conv2D -> Concatenate -> Conv2D -> ReLU.\"\"\"\n",
    "    x = tf.keras.layers.UpSampling2D((2, 2))(input_tensor)\n",
    "    x = tf.keras.layers.Conv2D(num_filters, 2, padding=\"same\")(x)\n",
    "    x = tf.keras.layers.Concatenate()([x, skip_tensor])\n",
    "    x = tf.keras.layers.Conv2D(num_filters, 3, padding=\"same\")(x)\n",
    "    x = tf.keras.layers.Activation(\"relu\")(x)\n",
    "    x = tf.keras.layers.Conv2D(num_filters, 3, padding=\"same\")(x)\n",
    "    x = tf.keras.layers.Activation(\"relu\")(x)\n",
    "    return x\n",
    "\n",
    "def unet_model(input_shape=(256, 256, 3), num_classes=2):\n",
    "    \"\"\"U-Net model.\"\"\"\n",
    "    inputs = tf.keras.layers.Input(input_shape)\n",
    "\n",
    "    # Contracting Path\n",
    "    s1, p1 = encoder_block(inputs, 64)\n",
    "    s2, p2 = encoder_block(p1, 128)\n",
    "    s3, p3 = encoder_block(p2, 256)\n",
    "    s4, p4 = encoder_block(p3, 512)\n",
    "    s5, p5 = encoder_block(p4, 1024)\n",
    "    \n",
    "\n",
    "    # Bottleneck\n",
    "    b1 = tf.keras.layers.Conv2D(2048, 3, padding=\"same\")(p5)\n",
    "    b1 = tf.keras.layers.Activation(\"relu\")(b1)\n",
    "    b1 = tf.keras.layers.Conv2D(2048, 3, padding=\"same\")(b1)\n",
    "    b1 = tf.keras.layers.Activation(\"relu\")(b1)\n",
    "\n",
    "    # Expansive Path\n",
    "    d0 = decoder_block(b1, s5, 1024)\n",
    "    d1 = decoder_block(d0, s4, 512)\n",
    "    d2 = decoder_block(d1, s3, 256)\n",
    "    d3 = decoder_block(d2, s2, 128)\n",
    "    d4 = decoder_block(d3, s1, 64)\n",
    "\n",
    "    # Output\n",
    "    outputs = tf.keras.layers.Conv2D(num_classes, 1, padding=\"same\", activation=\"sigmoid\")(d4)\n",
    "\n",
    "    model = tf.keras.models.Model(inputs=inputs, outputs=outputs, name=\"U-Net\")\n",
    "    \n",
    "    return model"
   ],
   "outputs": [],
   "execution_count": 3
  },
  {
   "cell_type": "code",
   "metadata": {
    "ExecuteTime": {
     "end_time": "2024-12-10T17:16:01.927010Z",
     "start_time": "2024-12-10T17:16:00.441601Z"
    }
   },
   "source": [
    "\n",
    "\n",
    "model = unet_model(input_shape=input_shape.__add__((3,)), num_classes=2)\n",
    "\n",
    "#model.summary()"
   ],
   "outputs": [],
   "execution_count": 4
  },
  {
   "cell_type": "code",
   "metadata": {
    "ExecuteTime": {
     "end_time": "2024-12-10T17:16:15.832745Z",
     "start_time": "2024-12-10T17:16:01.944042Z"
    }
   },
   "source": [
    "img = Image.open('cat.jpg')\n",
    "\n",
    "img = img.resize(input_shape)\n",
    "\n",
    "img_array = image.img_to_array(img)\n",
    "img_array = np.expand_dims(img_array[:,:,:3], axis=0)\n",
    "img_array = img_array / 255.\n",
    "\n",
    "\n",
    "predictions = model.predict(img_array)\n"
   ],
   "outputs": [
    {
     "name": "stdout",
     "output_type": "stream",
     "text": [
      "\u001B[1m1/1\u001B[0m \u001B[32m━━━━━━━━━━━━━━━━━━━━\u001B[0m\u001B[37m\u001B[0m \u001B[1m14s\u001B[0m 14s/step\n"
     ]
    }
   ],
   "execution_count": 5
  },
  {
   "cell_type": "code",
   "metadata": {
    "ExecuteTime": {
     "end_time": "2024-12-10T17:16:15.889477Z",
     "start_time": "2024-12-10T17:16:15.856459Z"
    }
   },
   "source": [
    "predictions = np.squeeze(predictions, axis=0)\n",
    "predictions = np.argmax(predictions, axis=-1)\n",
    "predictions = Image.fromarray(np.uint8(predictions*255))\n",
    "predictions = predictions.resize((img.width, img.height))\n",
    "\n",
    "predictions.save('predicted_image.jpg')\n",
    "predictions"
   ],
   "outputs": [
    {
     "data": {
      "text/plain": [
       "<PIL.Image.Image image mode=L size=384x384>"
      ],
      "image/png": "[encoded data removed]",
      "image/jpeg": "[encoded data removed]"
     },
     "execution_count": 6,
     "metadata": {},
     "output_type": "execute_result"
    }
   ],
   "execution_count": 6
  }
 ],
 "metadata": {
  "kernelspec": {
   "display_name": "Python 3",
   "language": "python",
   "name": "python3"
  },
  "language_info": {
   "codemirror_mode": {
    "name": "ipython",
    "version": 3
   },
   "file_extension": ".py",
   "mimetype": "text/x-python",
   "name": "python",
   "nbconvert_exporter": "python",
   "pygments_lexer": "ipython3",
   "version": "3.9.13"
  }
 },
 "nbformat": 4,
 "nbformat_minor": 2
}
